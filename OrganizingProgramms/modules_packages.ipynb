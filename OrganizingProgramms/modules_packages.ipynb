{
 "cells": [
  {
   "cell_type": "markdown",
   "id": "1eb36b45",
   "metadata": {},
   "source": [
    "# Modules and Packages\n",
    "__Modules__: Normally Module is a single Python source file. Its a basic tool for organizing code. Represented by module object.It is loaded with import statement. \n",
    "\n",
    "\n",
    "__Packages__: Packages in Python is just a special type of module.It can contain other modules including other packages.\n",
    "So packages are a way to define hierarchies of modules in Python. This allows to group modules with similar functionality together in a ways that express their cohesiveness.Packages provide high level structure to Python code.\n",
    "\n",
    "Packages are generally represented by directories in the file system while modules are represented by single files."
   ]
  },
  {
   "cell_type": "code",
   "execution_count": 1,
   "id": "527f5c71",
   "metadata": {},
   "outputs": [],
   "source": [
    "import urllib\n",
    "import urllib.request"
   ]
  },
  {
   "cell_type": "code",
   "execution_count": 2,
   "id": "bfc901e6",
   "metadata": {},
   "outputs": [
    {
     "data": {
      "text/plain": [
       "module"
      ]
     },
     "execution_count": 2,
     "metadata": {},
     "output_type": "execute_result"
    }
   ],
   "source": [
    "type(urllib)"
   ]
  },
  {
   "cell_type": "code",
   "execution_count": 3,
   "id": "369c87f8",
   "metadata": {},
   "outputs": [
    {
     "data": {
      "text/plain": [
       "module"
      ]
     },
     "execution_count": 3,
     "metadata": {},
     "output_type": "execute_result"
    }
   ],
   "source": [
    "type(urllib.request)"
   ]
  },
  {
   "cell_type": "markdown",
   "id": "3515bdbf",
   "metadata": {},
   "source": [
    "In the above case, request is nested inside urllib. Hence urllib is a package and request is a module.Here only urllib is bound to a name, so it is not possible to access request sub-module directly.When imported this way access to the sub-module via a fully qualified hierarchical module name."
   ]
  },
  {
   "cell_type": "code",
   "execution_count": 4,
   "id": "dd27ab52",
   "metadata": {},
   "outputs": [
    {
     "data": {
      "text/plain": [
       "<module 'urllib.request' from '/usr/lib/python3.7/urllib/request.py'>"
      ]
     },
     "execution_count": 4,
     "metadata": {},
     "output_type": "execute_result"
    }
   ],
   "source": [
    "# import a sub-module directly using the from import syntax.\n",
    "# This only binds request to a name in the local namespace. The parent urllib package will have been imported\n",
    "# but won't be directly accessible via the urllib name.\n",
    "from urllib import request\n",
    "request # The sub-module knows its own hierarchical module name"
   ]
  },
  {
   "cell_type": "code",
   "execution_count": 5,
   "id": "d3010813",
   "metadata": {},
   "outputs": [
    {
     "data": {
      "text/plain": [
       "['/usr/lib/python3.7/urllib']"
      ]
     },
     "execution_count": 5,
     "metadata": {},
     "output_type": "execute_result"
    }
   ],
   "source": [
    "# __path__ attribute is a list of file system paths indicating where urllib searches to find nested modules.\n",
    "# This hints at the nature of the distinction between packages and modules.\n",
    "# In Python3 prior to version 3.3, __path__ was just a single string. Not a list.\n",
    "urllib.__path__"
   ]
  },
  {
   "cell_type": "code",
   "execution_count": 21,
   "id": "bc31868f",
   "metadata": {},
   "outputs": [
    {
     "ename": "AttributeError",
     "evalue": "module 'urllib.request' has no attribute '__path__'",
     "output_type": "error",
     "traceback": [
      "\u001b[0;31m---------------------------------------------------------------------------\u001b[0m",
      "\u001b[0;31mAttributeError\u001b[0m                            Traceback (most recent call last)",
      "\u001b[0;32m/tmp/ipykernel_12900/1096273543.py\u001b[0m in \u001b[0;36m<module>\u001b[0;34m\u001b[0m\n\u001b[0;32m----> 1\u001b[0;31m \u001b[0murllib\u001b[0m\u001b[0;34m.\u001b[0m\u001b[0mrequest\u001b[0m\u001b[0;34m.\u001b[0m\u001b[0m__path__\u001b[0m\u001b[0;34m\u001b[0m\u001b[0;34m\u001b[0m\u001b[0m\n\u001b[0m",
      "\u001b[0;31mAttributeError\u001b[0m: module 'urllib.request' has no attribute '__path__'"
     ]
    }
   ],
   "source": [
    "urllib.request.__path__"
   ]
  },
  {
   "cell_type": "markdown",
   "id": "7b45f15b",
   "metadata": {},
   "source": [
    "# Locating Modules\n",
    "When python encounter import statement, it looks on the file system for the corresponding Python source file\n",
    "and loads that code. But how does Python knows where to look? Python checks the path attribute of the standard\n",
    "sys module, commonly referred to as sys.path.This is a list of directories.Python checks each entry in sys.path\n",
    "object in order until it finds the appropriate Python source file i.e module.In case there is no match in all\n",
    "directories in sys.path, ImportError is raised.\n",
    "\n",
    "This can be modified by adding new path to sys.path using append() method as sys.path merely a list object.\n",
    "Sometimes this is the best way to make code available to Python.There is an another way to add entries in sys.path, that does not require direct manipulation of sys.path.\n",
    "The PYTHONPATH environment variable is a list of paths that are added to sys.path when Python starts.The format of\n",
    "PYTHONPATH is same as PATH on the platform. In windows its a ; separated list of directories and in linux/mac\n",
    "its a : separated list of directories."
   ]
  },
  {
   "cell_type": "code",
   "execution_count": 7,
   "id": "edc0de88",
   "metadata": {
    "scrolled": false
   },
   "outputs": [
    {
     "data": {
      "text/plain": [
       "['/media/hdd/atelier/Workspace/PycharmProjects/pystart/OrganizingProgramms',\n",
       " '/media/hdd/atelier/Workspace/PycharmProjects',\n",
       " '/usr/lib/python37.zip',\n",
       " '/usr/lib/python3.7',\n",
       " '/usr/lib/python3.7/lib-dynload',\n",
       " '',\n",
       " '/usr/local/lib/python3.7/dist-packages',\n",
       " '/usr/lib/python3/dist-packages',\n",
       " '/usr/local/lib/python3.7/dist-packages/IPython/extensions',\n",
       " '/home/mithun/.ipython']"
      ]
     },
     "execution_count": 7,
     "metadata": {},
     "output_type": "execute_result"
    }
   ],
   "source": [
    "import sys\n",
    "sys.path"
   ]
  },
  {
   "cell_type": "markdown",
   "id": "7f8a2333",
   "metadata": {},
   "source": [
    "# Creating packages\n",
    "To create a module, create a python source file in a directory contained in sys.path. Creating package is not much different.Package can be created by following below ways -\n",
    "\n",
    "1. First create a package's root directory. This root directory needs to be in some directory on sys.path.\n",
    "2. Create a file called __init__.py in that root directory.This is called package init file.This makes a package a module.__init__.py can be and often is empty.Its presence alone suffices to establish the package.\n",
    "\n",
    "Since PEP420 which was introduced in Python 3.3, __init__.py file is not technically required for packages any more.This is actually required for earlier version of python 3.3.\n",
    "Furthermore __init__.py provides powerful tool for package initialization.But it is recommended to include __init__.py file when possible, because explicit is better than implicit.The existance of package initialization\n",
    "file is an unambiguous signal that a Python developer intend for a direcory to be a package."
   ]
  },
  {
   "cell_type": "code",
   "execution_count": 8,
   "id": "23df872a",
   "metadata": {},
   "outputs": [],
   "source": [
    "%%bash\n",
    "mkdir -p demo_reader\n",
    "touch demo_reader/__init__.py"
   ]
  },
  {
   "cell_type": "code",
   "execution_count": 9,
   "id": "8bad2f3e",
   "metadata": {},
   "outputs": [
    {
     "name": "stdout",
     "output_type": "stream",
     "text": [
      "Overwriting demo_reader/__init__.py\n"
     ]
    }
   ],
   "source": [
    "%%writefile demo_reader/__init__.py\n",
    "print(\"demo_reader is being imported!\")"
   ]
  },
  {
   "cell_type": "code",
   "execution_count": 10,
   "id": "7bfc1bbc",
   "metadata": {},
   "outputs": [
    {
     "name": "stdout",
     "output_type": "stream",
     "text": [
      "demo_reader is being imported!\n"
     ]
    }
   ],
   "source": [
    "import demo_reader # Successfully imported and executed __init__.py file"
   ]
  },
  {
   "cell_type": "code",
   "execution_count": 11,
   "id": "da28e235",
   "metadata": {
    "scrolled": true
   },
   "outputs": [
    {
     "data": {
      "text/plain": [
       "'/media/hdd/atelier/Workspace/PycharmProjects/pystart/OrganizingProgramms/demo_reader/__init__.py'"
      ]
     },
     "execution_count": 11,
     "metadata": {},
     "output_type": "execute_result"
    }
   ],
   "source": [
    "# demo_reader is a module even though on the file system the name demo_reader refers to a directory.\n",
    "# A package is a directory containing __init__.py file\n",
    "demo_reader.__file__"
   ]
  },
  {
   "cell_type": "markdown",
   "id": "4d172ea4",
   "metadata": {},
   "source": [
    "# Working with package and subpackage\n",
    "Lets create a python source file called multireader.py inside demo_reader.\n",
    "change the content of demo_reader/__init__.py file as \"# demo_reader/__init__.py\"."
   ]
  },
  {
   "cell_type": "code",
   "execution_count": 12,
   "id": "fe8c9c4b",
   "metadata": {},
   "outputs": [
    {
     "name": "stdout",
     "output_type": "stream",
     "text": [
      "Overwriting demo_reader/__init__.py\n"
     ]
    }
   ],
   "source": [
    "%%writefile demo_reader/__init__.py\n",
    "# demo_reader/__init__.py"
   ]
  },
  {
   "cell_type": "code",
   "execution_count": 13,
   "id": "b5b74a8e",
   "metadata": {},
   "outputs": [
    {
     "name": "stdout",
     "output_type": "stream",
     "text": [
      "# demo_reader/__init__.py\n",
      "\n"
     ]
    }
   ],
   "source": [
    "import demo_reader.multireader\n",
    "rd = demo_reader.multireader.MultiReader('demo_reader/__init__.py')\n",
    "print(rd.read())\n",
    "rd.close()"
   ]
  },
  {
   "cell_type": "code",
   "execution_count": 14,
   "id": "4f4a5cbc",
   "metadata": {},
   "outputs": [],
   "source": [
    "%%bash\n",
    "mkdir -p demo_reader/compressed\n",
    "touch demo_reader/compressed/__init__.py"
   ]
  },
  {
   "cell_type": "markdown",
   "id": "cdd5bbbd",
   "metadata": {},
   "source": [
    "Added two more python source files gzipped.py and bzipped.py inside demo_reader/compressed subpackage.Lets import them."
   ]
  },
  {
   "cell_type": "code",
   "execution_count": 15,
   "id": "168aabb8",
   "metadata": {},
   "outputs": [],
   "source": [
    "import demo_reader\n",
    "import demo_reader.multireader\n",
    "import demo_reader.compressed\n",
    "import demo_reader.compressed.gzipped\n",
    "import demo_reader.compressed.bzipped"
   ]
  },
  {
   "cell_type": "code",
   "execution_count": 23,
   "id": "d62e0745",
   "metadata": {},
   "outputs": [],
   "source": [
    "%%bash\n",
    "# Creating one sample file with bz2 compression\n",
    "python -m demo_reader.compressed.bzipped sample.bz2 data compressed with bz2"
   ]
  },
  {
   "cell_type": "code",
   "execution_count": 22,
   "id": "0067a874",
   "metadata": {},
   "outputs": [],
   "source": [
    "%%bash\n",
    "# Creating one sample file with gz compression\n",
    "python -m demo_reader.compressed.gzipped sample.gz data compressed with gz"
   ]
  },
  {
   "cell_type": "code",
   "execution_count": 18,
   "id": "a4fdbc10",
   "metadata": {},
   "outputs": [
    {
     "name": "stdout",
     "output_type": "stream",
     "text": [
      "data compressed with bz2\n",
      "data compressed with gz\n"
     ]
    }
   ],
   "source": [
    "# Let's read the files\n",
    "from demo_reader.multireader import MultiReader\n",
    "bz = MultiReader('sample.bz2')\n",
    "gz = MultiReader('sample.gz')\n",
    "print(bz.read())\n",
    "print(gz.read())\n",
    "bz.close()\n",
    "gz.close()"
   ]
  },
  {
   "cell_type": "markdown",
   "id": "db0e9077",
   "metadata": {},
   "source": [
    "# Relative imports\n",
    "There are two ways the modules can be imported.\n",
    "1. Absolute import - specify all of the ancestor modules of any module you want to import  \n",
    "Example - import demo_reader.compressed.gzipped  \n",
    "from demo_reader.compressed import gzipped\n",
    "\n",
    "1. Relative import - mention equal number of dots(.) with the number of ancestor packages before the module name\n",
    "that is doing the import.Instead of specifying imports with absolute paths from the root of package tree, it is specified relative to the importing module.Hence relative imports.It can only be used with the \"from module import names\" form of import.Relative imports also works only to import modules within the current top level package.Below are some of the benefits of relative imports.\n",
    "- Reduces typing in deeply nested package structure\n",
    "- Promote a certain form of modifiability since they allow you a principle, to rename top-level and subpackages in\n",
    "some cases.  \n",
    "Example - from . import gzipped  \n",
    "import .gzipped - Will raise ImportError\n",
    "\n",
    "It is advisable to use absolute import."
   ]
  },
  {
   "cell_type": "code",
   "execution_count": 19,
   "id": "4c645b6d",
   "metadata": {},
   "outputs": [],
   "source": [
    "%%bash\n",
    "mkdir -p demo_reader/util\n",
    "touch demo_reader/util/__init__.py"
   ]
  },
  {
   "cell_type": "markdown",
   "id": "8eceee16",
   "metadata": {},
   "source": [
    "Created one more subpackage util inside demo_reader and added __init__.py file."
   ]
  },
  {
   "cell_type": "markdown",
   "id": "dc06878b",
   "metadata": {},
   "source": [
    "# \\__all\\__ attribute\n",
    "This is a module level attribute.This lets you control which attributes are imported when from module import * form of import is being used.If \\__all\\__ is not specified then from module import * imports all public names those without leading underscores from the imported module.This module attribute must be a list of strings and each string indicates a name which will be imported when the * syntax is used. "
   ]
  },
  {
   "cell_type": "code",
   "execution_count": null,
   "id": "579fe1c5",
   "metadata": {},
   "outputs": [],
   "source": [
    "from pprint import pprint\n",
    "pprint(locals()) # baseline display of the local variables"
   ]
  }
 ],
 "metadata": {
  "kernelspec": {
   "display_name": "Python 3",
   "language": "python",
   "name": "python3"
  },
  "language_info": {
   "codemirror_mode": {
    "name": "ipython",
    "version": 3
   },
   "file_extension": ".py",
   "mimetype": "text/x-python",
   "name": "python",
   "nbconvert_exporter": "python",
   "pygments_lexer": "ipython3",
   "version": "3.7.11"
  }
 },
 "nbformat": 4,
 "nbformat_minor": 5
}
