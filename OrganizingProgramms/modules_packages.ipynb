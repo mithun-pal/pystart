{
 "cells": [
  {
   "cell_type": "markdown",
   "id": "0e28f156",
   "metadata": {},
   "source": [
    "# Modules and Packages\n",
    "__Modules__: Normally Module is a single Python source file. Its a basic tool for organizing code. Represented by module object.It is loaded with import statement. \n",
    "\n",
    "\n",
    "__Packages__: Packages in Python is just a special type of module.It can contain other modules including other packages.\n",
    "So packages are a way to define hierarchies of modules in Python. This allows to group modules with similar functionality together in a ways that express their cohesiveness.Packages provide high level structure to Python code.\n",
    "\n",
    "Packages are generally represented by directories in the file system while modules are represented by single files."
   ]
  },
  {
   "cell_type": "code",
   "execution_count": 1,
   "id": "6a7b0ebb",
   "metadata": {},
   "outputs": [],
   "source": [
    "import urllib\n",
    "import urllib.request"
   ]
  },
  {
   "cell_type": "code",
   "execution_count": 2,
   "id": "0cc8acd5",
   "metadata": {},
   "outputs": [
    {
     "data": {
      "text/plain": [
       "module"
      ]
     },
     "execution_count": 2,
     "metadata": {},
     "output_type": "execute_result"
    }
   ],
   "source": [
    "type(urllib)"
   ]
  },
  {
   "cell_type": "code",
   "execution_count": 3,
   "id": "b161a656",
   "metadata": {},
   "outputs": [
    {
     "data": {
      "text/plain": [
       "module"
      ]
     },
     "execution_count": 3,
     "metadata": {},
     "output_type": "execute_result"
    }
   ],
   "source": [
    "type(urllib.request)"
   ]
  },
  {
   "cell_type": "markdown",
   "id": "9813a13f",
   "metadata": {},
   "source": [
    "In the above case, request is nested inside urllib. Hence urllib is a package and request is a module.Here only urllib is bound to a name, so it is not possible to access request sub-module directly.When imported this way access to the sub-module via a fully qualified hierarchical module name."
   ]
  },
  {
   "cell_type": "code",
   "execution_count": 4,
   "id": "7fb73297",
   "metadata": {},
   "outputs": [
    {
     "data": {
      "text/plain": [
       "<module 'urllib.request' from '/usr/lib/python3.7/urllib/request.py'>"
      ]
     },
     "execution_count": 4,
     "metadata": {},
     "output_type": "execute_result"
    }
   ],
   "source": [
    "# import a sub-module directly using the from import syntax.\n",
    "# This only binds request to a name in the local namespace. The parent urllib package will have been imported\n",
    "# but won't be directly accessible via the urllib name.\n",
    "from urllib import request\n",
    "request # The sub-module knows its own hierarchical module name"
   ]
  },
  {
   "cell_type": "code",
   "execution_count": 5,
   "id": "44942d03",
   "metadata": {},
   "outputs": [
    {
     "data": {
      "text/plain": [
       "['/usr/lib/python3.7/urllib']"
      ]
     },
     "execution_count": 5,
     "metadata": {},
     "output_type": "execute_result"
    }
   ],
   "source": [
    "# __path__ attribute is a list of file system paths indicating where urllib searches to find nested modules.\n",
    "# This hints at the nature of the distinction between packages and modules.\n",
    "# In Python3 prior to version 3.3, __path__ was just a single string. Not a list.\n",
    "urllib.__path__"
   ]
  },
  {
   "cell_type": "code",
   "execution_count": 12,
   "id": "ea237332",
   "metadata": {},
   "outputs": [
    {
     "ename": "AttributeError",
     "evalue": "module 'urllib.request' has no attribute '__path__'",
     "output_type": "error",
     "traceback": [
      "\u001b[0;31m---------------------------------------------------------------------------\u001b[0m",
      "\u001b[0;31mAttributeError\u001b[0m                            Traceback (most recent call last)",
      "\u001b[0;32m/tmp/ipykernel_22678/1096273543.py\u001b[0m in \u001b[0;36m<module>\u001b[0;34m\u001b[0m\n\u001b[0;32m----> 1\u001b[0;31m \u001b[0murllib\u001b[0m\u001b[0;34m.\u001b[0m\u001b[0mrequest\u001b[0m\u001b[0;34m.\u001b[0m\u001b[0m__path__\u001b[0m\u001b[0;34m\u001b[0m\u001b[0;34m\u001b[0m\u001b[0m\n\u001b[0m",
      "\u001b[0;31mAttributeError\u001b[0m: module 'urllib.request' has no attribute '__path__'"
     ]
    }
   ],
   "source": [
    "# urllib.request.__path__"
   ]
  },
  {
   "cell_type": "markdown",
   "id": "f3002fc9",
   "metadata": {},
   "source": [
    "# Locating Modules\n",
    "When python encounter import statement, it looks on the file system for the corresponding Python source file\n",
    "and loads that code. But how does Python knows where to look? Python checks the path attribute of the standard\n",
    "sys module, commonly referred to as sys.path.This is a list of directories.Python checks each entry in sys.path\n",
    "object in order until it finds the appropriate Python source file i.e module.In case there is no match in all\n",
    "directories in sys.path, ImportError is raised.\n",
    "\n",
    "This can be modified by adding new path to sys.path using append() method as sys.path merely a list object.\n",
    "Sometimes this is the best way to make code available to Python.There is an another way to add entries in sys.path, that does not require direct manipulation of sys.path.\n",
    "The PYTHONPATH environment variable is a list of paths that are added to sys.path when Python starts.The format of\n",
    "PYTHONPATH is same as PATH on the platform. In windows its a ; separated list of directories and in linux/mac\n",
    "its a : separated list of directories."
   ]
  },
  {
   "cell_type": "code",
   "execution_count": 7,
   "id": "4fd6faae",
   "metadata": {
    "scrolled": false
   },
   "outputs": [
    {
     "data": {
      "text/plain": [
       "['/media/hdd/atelier/Workspace/PycharmProjects/pystart/OrganizingProgramms',\n",
       " '/media/hdd/atelier/Workspace/PycharmProjects',\n",
       " '/usr/lib/python37.zip',\n",
       " '/usr/lib/python3.7',\n",
       " '/usr/lib/python3.7/lib-dynload',\n",
       " '',\n",
       " '/usr/local/lib/python3.7/dist-packages',\n",
       " '/usr/lib/python3/dist-packages',\n",
       " '/usr/local/lib/python3.7/dist-packages/IPython/extensions',\n",
       " '/home/mithun/.ipython']"
      ]
     },
     "execution_count": 7,
     "metadata": {},
     "output_type": "execute_result"
    }
   ],
   "source": [
    "import sys\n",
    "sys.path"
   ]
  },
  {
   "cell_type": "markdown",
   "id": "895cd4a0",
   "metadata": {},
   "source": [
    "# Creating packages\n",
    "To create a module, create a python source file in a directory contained in sys.path. Creating package is not much different.Package can be created by following below ways -\n",
    "\n",
    "1. First create a package's root directory. This root directory needs to be in some directory on sys.path.\n",
    "2. Create a file called __init__.py in that root directory.This is called package init file.This makes a package a module.__init__.py can be and often is empty.Its presence alone suffices to establish the package.\n",
    "\n",
    "Since PEP420 which was introduced in Python 3.3, __init__.py file is not technically required for packages any more.This is actually required for earlier version of python 3.3.\n",
    "Furthermore __init__.py provides powerful tool for package initialization.But it is recommended to include __init__.py file when possible, because explicit is better than implicit.The existance of package initialization\n",
    "file is an unambiguous signal that a Python developer intend for a direcory to be a package."
   ]
  },
  {
   "cell_type": "code",
   "execution_count": 8,
   "id": "78d3edd4",
   "metadata": {},
   "outputs": [],
   "source": [
    "%%bash\n",
    "mkdir -p demo_reader\n",
    "touch demo_reader/__init__.py"
   ]
  },
  {
   "cell_type": "code",
   "execution_count": 9,
   "id": "c87ffe22",
   "metadata": {},
   "outputs": [
    {
     "name": "stdout",
     "output_type": "stream",
     "text": [
      "Overwriting demo_reader/__init__.py\n"
     ]
    }
   ],
   "source": [
    "%%writefile demo_reader/__init__.py\n",
    "print(\"demo_reader is being imported!\")"
   ]
  },
  {
   "cell_type": "code",
   "execution_count": 10,
   "id": "3895306c",
   "metadata": {},
   "outputs": [
    {
     "name": "stdout",
     "output_type": "stream",
     "text": [
      "demo_reader is being imported!\n"
     ]
    }
   ],
   "source": [
    "import demo_reader # Successfully imported and executed __init__.py file"
   ]
  },
  {
   "cell_type": "code",
   "execution_count": 11,
   "id": "7e6acb89",
   "metadata": {
    "scrolled": true
   },
   "outputs": [
    {
     "data": {
      "text/plain": [
       "'/media/hdd/atelier/Workspace/PycharmProjects/pystart/OrganizingProgramms/demo_reader/__init__.py'"
      ]
     },
     "execution_count": 11,
     "metadata": {},
     "output_type": "execute_result"
    }
   ],
   "source": [
    "# demo_reader is a module even though on the file system the name demo_reader refers to a directory.\n",
    "# A package is a directory containing __init__.py file\n",
    "demo_reader.__file__"
   ]
  },
  {
   "cell_type": "markdown",
   "id": "6681108d",
   "metadata": {},
   "source": [
    "# Working with package and subpackage\n",
    "Lets create a python source file called multireader.py inside demo_reader.\n",
    "change the content of demo_reader/__init__.py file as \"# demo_reader/__init__.py\"."
   ]
  },
  {
   "cell_type": "code",
   "execution_count": 16,
   "id": "60ace1f9",
   "metadata": {},
   "outputs": [
    {
     "name": "stdout",
     "output_type": "stream",
     "text": [
      "# demo_reader/__init__.py\n",
      "\n"
     ]
    }
   ],
   "source": [
    "import demo_reader.multireader\n",
    "rd = demo_reader.multireader.MultiReader('demo_reader/__init__.py')\n",
    "print(rd.read())\n",
    "rd.close()"
   ]
  },
  {
   "cell_type": "code",
   "execution_count": 17,
   "id": "6e364f8e",
   "metadata": {},
   "outputs": [],
   "source": [
    "%%bash\n",
    "mkdir -p demo_reader/compressed\n",
    "touch demo_reader/compressed/__init__.py"
   ]
  },
  {
   "cell_type": "markdown",
   "id": "2780eaef",
   "metadata": {},
   "source": [
    "Added two more python source files gzipped.py and bzipped.py inside demo_reader/compressed subpackage.Lets import them."
   ]
  },
  {
   "cell_type": "code",
   "execution_count": 20,
   "id": "efde1d5e",
   "metadata": {},
   "outputs": [],
   "source": [
    "import demo_reader\n",
    "import demo_reader.multireader\n",
    "import demo_reader.compressed\n",
    "import demo_reader.compressed.gzipped\n",
    "import demo_reader.compressed.bzipped"
   ]
  }
 ],
 "metadata": {
  "kernelspec": {
   "display_name": "Python 3",
   "language": "python",
   "name": "python3"
  },
  "language_info": {
   "codemirror_mode": {
    "name": "ipython",
    "version": 3
   },
   "file_extension": ".py",
   "mimetype": "text/x-python",
   "name": "python",
   "nbconvert_exporter": "python",
   "pygments_lexer": "ipython3",
   "version": "3.7.11"
  }
 },
 "nbformat": 4,
 "nbformat_minor": 5
}
